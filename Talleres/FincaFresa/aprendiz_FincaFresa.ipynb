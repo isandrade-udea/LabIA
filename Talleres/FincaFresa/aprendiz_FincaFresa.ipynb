{
  "nbformat": 4,
  "nbformat_minor": 0,
  "metadata": {
    "colab": {
      "provenance": []
    },
    "kernelspec": {
      "name": "python3",
      "display_name": "Python 3"
    },
    "language_info": {
      "name": "python"
    }
  },
  "cells": [
    {
      "cell_type": "markdown",
      "source": [
        "\n",
        "# Ejercicio práctico de aplicacion de IA\n",
        "Exploraremos la implementacion de varias formas de lo que es IA implementandola para solucionar un reto de un contexto empresarial simulado. El escenario elegido fue Finca Fresa una empresa ficticia dedicada a la producción y comercialización de productos agrícolas frescos, enfocada principalmente en verduras como tomates, zanahorias y lechugas.\n",
        "\n",
        "**La empresa enfrenta un desafío en la predicción de la demanda**, especialmente debido a que sus clientes son personas que realizan compras frecuentes durante el mes.\n"
      ],
      "metadata": {
        "id": "9zH71jPSM9n5"
      }
    },
    {
      "cell_type": "markdown",
      "source": [
        "#Los datos\n",
        "\n",
        "Cargamos los datos proporcionados por la empresa"
      ],
      "metadata": {
        "id": "vVqkKjA7bj6A"
      }
    },
    {
      "cell_type": "code",
      "execution_count": null,
      "metadata": {
        "id": "93-PpjVB5rB4"
      },
      "outputs": [],
      "source": [
        "# Librerías para análisis y visualización de datos\n",
        "\n",
        "import pandas as pd   # Manipulación de datos\n",
        "import numpy as np    # Operaciones numéricas\n",
        "import matplotlib.pyplot as plt   # Gráficos 2D\n",
        "import seaborn as sns # Visualización estadística"
      ]
    },
    {
      "cell_type": "code",
      "source": [
        "#datos\n",
        "path_to_file = \"https://raw.githubusercontent.com/isandrade-udea/LabIA/main/Talleres/FincaFresa/datos_generados.csv\"\n",
        "\n",
        "df = pd.read_csv(path_to_file)\n",
        "df.head()"
      ],
      "metadata": {
        "id": "pSoHhwxfK8x8"
      },
      "execution_count": null,
      "outputs": []
    },
    {
      "cell_type": "code",
      "source": [
        "df.shape"
      ],
      "metadata": {
        "id": "jeYXAUp1ESxO"
      },
      "execution_count": null,
      "outputs": []
    },
    {
      "cell_type": "markdown",
      "source": [
        "# Analisis Exploratorio de Datos (EDA)\n",
        "Un EDA busca comprender las características principales del conjunto de datos mediante técnicas visuales y estadísticas.\n",
        "\n",
        "**EDA asistido por un agente:** Un agente es una plataforma que facilita la realización de preguntas a los datos en lenguaje natural. Ayuda a los usuarios no técnicos a interactuar con sus datos de una forma más natural y ayuda a los usuarios técnicos a ahorrar tiempo y esfuerzo al trabajar con datos.\n",
        "\n",
        "<center>\n",
        "  <img alt=\"model\" height=\"280px\" src=\"https://raw.githubusercontent.com/isandrade-udea/LabIA/main/Talleres/FincaFresa/agent.png\" hspace=\"10px\" vspace=\"0px\">\n",
        "</center>\n",
        "\n",
        "\n",
        "\n",
        "\n",
        "\n",
        "\n",
        "\n",
        "\n",
        "\n",
        "\n"
      ],
      "metadata": {
        "id": "hLmQ2n5UcCM2"
      }
    },
    {
      "cell_type": "markdown",
      "source": [
        "**Agente Gemini**\n",
        "<p><img alt=\"Colaboratory logo\" height=\"80px\" src=\"https://diariodelcauca.com.co/wp-content/uploads/2024/05/Gemini-1.jpg\" align=\"left\" hspace=\"10px\" vspace=\"0px\"></p>\n"
      ],
      "metadata": {
        "id": "bHa63eOCw2wK"
      }
    },
    {
      "cell_type": "markdown",
      "source": [
        "* Verificamos el tipo de datos"
      ],
      "metadata": {
        "id": "A3yzvzTVxrlD"
      }
    },
    {
      "cell_type": "code",
      "source": [
        "df.info()"
      ],
      "metadata": {
        "colab": {
          "base_uri": "https://localhost:8080/"
        },
        "id": "RrYezm2o4Eyp",
        "outputId": "e8619c2f-7696-4c56-c503-f4df035237b0"
      },
      "execution_count": null,
      "outputs": [
        {
          "output_type": "stream",
          "name": "stdout",
          "text": [
            "<class 'pandas.core.frame.DataFrame'>\n",
            "RangeIndex: 45 entries, 0 to 44\n",
            "Data columns (total 7 columns):\n",
            " #   Column             Non-Null Count  Dtype  \n",
            "---  ------             --------------  -----  \n",
            " 0   Cliente_ID         45 non-null     object \n",
            " 1   Nombre_Cliente     45 non-null     object \n",
            " 2   Producto           45 non-null     object \n",
            " 3   Cantidad_Comprada  45 non-null     int64  \n",
            " 4   Precio_Unidad      45 non-null     float64\n",
            " 5   Precio_Total       45 non-null     float64\n",
            " 6   Fecha              45 non-null     object \n",
            "dtypes: float64(2), int64(1), object(4)\n",
            "memory usage: 2.6+ KB\n"
          ]
        }
      ]
    },
    {
      "cell_type": "markdown",
      "source": [
        "*  cambiar le formato de la columna fecha a fecha"
      ],
      "metadata": {
        "id": "Qj_0Bfa9xzPC"
      }
    },
    {
      "cell_type": "code",
      "source": [],
      "metadata": {
        "id": "ns0zgd4Yx8l3"
      },
      "execution_count": null,
      "outputs": []
    },
    {
      "cell_type": "markdown",
      "source": [
        "* generar una columna para los meses y otra para los dias"
      ],
      "metadata": {
        "id": "XZEMlbbzx9-f"
      }
    },
    {
      "cell_type": "code",
      "source": [],
      "metadata": {
        "id": "p4l4cznryBEK"
      },
      "execution_count": null,
      "outputs": []
    },
    {
      "cell_type": "markdown",
      "source": [
        "* Generar un gráfico de barras de la columna de producto"
      ],
      "metadata": {
        "id": "FP_0pmPJyDOj"
      }
    },
    {
      "cell_type": "code",
      "source": [],
      "metadata": {
        "id": "RsSWKe6kyWy2"
      },
      "execution_count": null,
      "outputs": []
    },
    {
      "cell_type": "markdown",
      "source": [
        "* darme un boxplot de la cantidad comprada por producto\n",
        "\n"
      ],
      "metadata": {
        "id": "Fx-powhLyi_t"
      }
    },
    {
      "cell_type": "code",
      "source": [],
      "metadata": {
        "id": "v_EcqlbxynXu"
      },
      "execution_count": null,
      "outputs": []
    },
    {
      "cell_type": "markdown",
      "source": [
        "*  Generar un gráfico de barras de las ventas totales por dia discrimado por producto"
      ],
      "metadata": {
        "id": "4CshLyPVypDo"
      }
    },
    {
      "cell_type": "code",
      "source": [],
      "metadata": {
        "id": "oqPtLoNKyqu7"
      },
      "execution_count": null,
      "outputs": []
    },
    {
      "cell_type": "markdown",
      "source": [
        "* grafico de barras y boxplot para columna de mes en arrego 1,2"
      ],
      "metadata": {
        "id": "_f6t8JEfywaI"
      }
    },
    {
      "cell_type": "markdown",
      "source": [
        "# **Modelo**"
      ],
      "metadata": {
        "id": "8ejo_m6ny0cn"
      }
    },
    {
      "cell_type": "markdown",
      "source": [
        "## Preprocesamiento"
      ],
      "metadata": {
        "id": "QXKxHrtL9L4H"
      }
    },
    {
      "cell_type": "code",
      "source": [
        "df.head()"
      ],
      "metadata": {
        "id": "C_GCatWP8vFs"
      },
      "execution_count": null,
      "outputs": []
    },
    {
      "cell_type": "markdown",
      "source": [
        "* borrar las columnas cliente_id, nombre_cliente, fecha, mes"
      ],
      "metadata": {
        "id": "8NYajNyUzCED"
      }
    },
    {
      "cell_type": "code",
      "source": [],
      "metadata": {
        "id": "Gw247bVNzD0b"
      },
      "execution_count": null,
      "outputs": []
    },
    {
      "cell_type": "markdown",
      "source": [
        "* codificar las variables categoricas del data frame"
      ],
      "metadata": {
        "id": "uXSq6rPtzGoJ"
      }
    },
    {
      "cell_type": "code",
      "source": [],
      "metadata": {
        "id": "k5YwWiAdzMSQ"
      },
      "execution_count": null,
      "outputs": []
    },
    {
      "cell_type": "markdown",
      "source": [
        "* graficar un mapa de calor con las correlaciones"
      ],
      "metadata": {
        "id": "tRWN3tSvzM66"
      }
    },
    {
      "cell_type": "markdown",
      "source": [
        "* eliminar la columna de precio_total"
      ],
      "metadata": {
        "id": "ang3WpmazSeM"
      }
    },
    {
      "cell_type": "code",
      "source": [],
      "metadata": {
        "id": "pspPwGAPzR2M"
      },
      "execution_count": null,
      "outputs": []
    },
    {
      "cell_type": "markdown",
      "source": [
        "#modelamiento\n",
        "\n",
        "**La empresa enfrenta un desafío en la predicción de la demanda**, especialmente debido a que sus clientes son personas que realizan compras frecuentes durante el mes."
      ],
      "metadata": {
        "id": "N7sNNugH_oc_"
      }
    },
    {
      "cell_type": "markdown",
      "source": [
        "* generar un modelo que permita predecir la columna cantidad comprada y darme la metrica de F1"
      ],
      "metadata": {
        "id": "MiZ5xfsFzada"
      }
    },
    {
      "cell_type": "code",
      "source": [],
      "metadata": {
        "id": "W8JcrqWezd9v"
      },
      "execution_count": null,
      "outputs": []
    },
    {
      "cell_type": "markdown",
      "source": [
        "<center>\n",
        "  <img alt=\"model\" height=\"580px\" src=\"https://upload.wikimedia.org/wikipedia/commons/a/a4/Scikit-learn_machine_learning_decision_tree.png\" hspace=\"10px\" vspace=\"0px\">\n",
        "</center>\n"
      ],
      "metadata": {
        "id": "6n4g3Evxzehr"
      }
    },
    {
      "cell_type": "markdown",
      "source": [
        "* generar un modelo elasticnet para predecir la columna cantidad comprada y darme la metrica de F1"
      ],
      "metadata": {
        "id": "bpRUNEUvzfvG"
      }
    },
    {
      "cell_type": "code",
      "source": [],
      "metadata": {
        "id": "WUU4WHJcCoLW"
      },
      "execution_count": null,
      "outputs": []
    },
    {
      "cell_type": "markdown",
      "source": [
        "##Predecir"
      ],
      "metadata": {
        "id": "HfxorBhJ5n9W"
      }
    },
    {
      "cell_type": "markdown",
      "source": [
        "* conocer la codificacion de los productos"
      ],
      "metadata": {
        "id": "s6RHTs1I5sDA"
      }
    },
    {
      "cell_type": "code",
      "source": [],
      "metadata": {
        "id": "sVN_JP3E5qZk"
      },
      "execution_count": null,
      "outputs": []
    },
    {
      "cell_type": "code",
      "source": [
        "MT = df[df['Producto']==2].mean()\n",
        "MT"
      ],
      "metadata": {
        "id": "EfJq3hKh5xPT"
      },
      "execution_count": null,
      "outputs": []
    },
    {
      "cell_type": "markdown",
      "source": [
        "* predecir la cantidad comprada para el producto \"Tomate\", en el día 15 a un precio de unidad MT\n"
      ],
      "metadata": {
        "id": "U0OTiqDO53eK"
      }
    },
    {
      "cell_type": "code",
      "source": [],
      "metadata": {
        "id": "X2qjVT-N544V"
      },
      "execution_count": null,
      "outputs": []
    }
  ]
}